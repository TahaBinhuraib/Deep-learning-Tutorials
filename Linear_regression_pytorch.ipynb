{
 "cells": [
  {
   "cell_type": "code",
   "execution_count": 88,
   "id": "pediatric-diagnosis",
   "metadata": {},
   "outputs": [
    {
     "name": "stdout",
     "output_type": "stream",
     "text": [
      "tensor([[ 0.2555, -0.3121],\n",
      "        [-2.0669,  1.3310],\n",
      "        [-0.0072, -0.4222],\n",
      "        ...,\n",
      "        [ 0.6251,  0.8759],\n",
      "        [ 1.1458,  0.4670],\n",
      "        [-0.2060, -1.2622]])\n"
     ]
    }
   ],
   "source": [
    "#https://d2l.ai/chapter_linear-networks/linear-regression.html\n",
    "import torch\n",
    "import matplotlib.pyplot as plt\n",
    "def synthetic_data(w, b, num_examples):  \n",
    "    \n",
    "    X = torch.normal(0, 1, (num_examples, len(w)))\n",
    "    print(X)\n",
    "    y = torch.matmul(X, w) + b\n",
    "    \n",
    "    y += torch.normal(0, 0.01, y.shape)\n",
    "    return X, y.reshape((-1, 1))\n",
    "\n",
    "true_w = torch.tensor([2,-5.12])\n",
    "true_b = 4.2\n",
    "features, labels = synthetic_data(true_w, true_b, 1000)"
   ]
  },
  {
   "cell_type": "code",
   "execution_count": 89,
   "id": "working-victory",
   "metadata": {},
   "outputs": [
    {
     "name": "stdout",
     "output_type": "stream",
     "text": [
      "features: tensor([ 0.2555, -0.3121]) \n",
      "label: tensor([6.3122])\n"
     ]
    }
   ],
   "source": [
    "print('features:', features[0],'\\nlabel:', labels[0])"
   ]
  },
  {
   "cell_type": "code",
   "execution_count": 90,
   "id": "retained-insertion",
   "metadata": {},
   "outputs": [
    {
     "data": {
      "text/plain": [
       "<matplotlib.collections.PathCollection at 0x7f8975ea5eb0>"
      ]
     },
     "execution_count": 90,
     "metadata": {},
     "output_type": "execute_result"
    },
    {
     "data": {
      "image/png": "[encoded data removed]",
      "text/plain": [
       "<Figure size 432x288 with 1 Axes>"
      ]
     },
     "metadata": {
      "needs_background": "light"
     },
     "output_type": "display_data"
    }
   ],
   "source": [
    "plt.scatter(features[:, 0].detach().numpy(),\n",
    "                labels.detach().numpy(),1)"
   ]
  },
  {
   "cell_type": "code",
   "execution_count": 115,
   "id": "based-portuguese",
   "metadata": {},
   "outputs": [],
   "source": [
    "# iterator:\n",
    "def data_iter(batch_size, features, labels):\n",
    "    num_examples = len(features)\n",
    "    indices = list(range(num_examples))\n",
    "    random.shuffle(indices)\n",
    "    for i in range(0, num_examples, batch_size):\n",
    "        batch_indices = torch.tensor(\n",
    "            indices[i: min(i + batch_size, num_examples)])\n",
    "        yield features[batch_indices], labels[batch_indices]\n",
    "\n",
    "# initialize parameters\n",
    "w = torch.normal(0, 1, size=(2,1), requires_grad=True)\n",
    "b = torch.zeros(1, requires_grad=True)\n",
    "# define the model:\n",
    "def linearRegression(X,w,b):\n",
    "    return torch.matmul(X,w) + b\n",
    "# loss function:\n",
    "def squaredLoss(y_hat, true_y):\n",
    "    return (y_hat - true_y.reshape(y_hat.shape))**2/2\n",
    "\n",
    "\n",
    "def sgd(param , lr , batch_size):\n",
    "    with torch.no_grad():\n",
    "        for param in param:\n",
    "            param -= lr*param.grad / batch_size\n",
    "            param.grad.zero_()"
   ]
  },
  {
   "cell_type": "code",
   "execution_count": 116,
   "id": "tender-agriculture",
   "metadata": {},
   "outputs": [
    {
     "name": "stdout",
     "output_type": "stream",
     "text": [
      "epoch 1, loss 0.029681\n",
      "epoch 2, loss 0.000103\n",
      "epoch 3, loss 0.000051\n"
     ]
    }
   ],
   "source": [
    "# training\n",
    "import random\n",
    "lr = 0.03\n",
    "num_epochs = 3\n",
    "net = linearRegression\n",
    "loss = squaredLoss\n",
    "\n",
    "for epoch in range(num_epochs):\n",
    "    for X, y in data_iter(batch_size, features, labels):\n",
    "        l = loss(net(X, w, b), y)  # Minibatch loss in `X` and `y`\n",
    "        # Compute gradient on `l` with respect to [`w`, `b`]\n",
    "        l.sum().backward()\n",
    "        sgd([w, b], lr, batch_size)  # Update parameters using their gradient\n",
    "    with torch.no_grad():\n",
    "        train_l = loss(net(features, w, b), labels)\n",
    "        print(f'epoch {epoch + 1}, loss {float(train_l.mean()):f}')\n",
    "   \n",
    "\n",
    "    "
   ]
  },
  {
   "cell_type": "code",
   "execution_count": 117,
   "id": "copyrighted-ferry",
   "metadata": {},
   "outputs": [
    {
     "name": "stdout",
     "output_type": "stream",
     "text": [
      "error in estimating w: tensor([-2.8968e-04, -9.6321e-05], grad_fn=<SubBackward0>)\n",
      "error in estimating b: tensor([0.0004], grad_fn=<RsubBackward1>)\n"
     ]
    }
   ],
   "source": [
    "print(f'error in estimating w: {true_w - w.reshape(true_w.shape)}')\n",
    "print(f'error in estimating b: {true_b - b}')"
   ]
  },
  {
   "cell_type": "code",
   "execution_count": 118,
   "id": "bearing-perth",
   "metadata": {},
   "outputs": [
    {
     "data": {
      "text/plain": [
       "tensor([4.1996], requires_grad=True)"
      ]
     },
     "execution_count": 118,
     "metadata": {},
     "output_type": "execute_result"
    }
   ],
   "source": []
  },
  {
   "cell_type": "code",
   "execution_count": null,
   "id": "black-balance",
   "metadata": {},
   "outputs": [],
   "source": []
  }
 ],
 "metadata": {
  "kernelspec": {
   "display_name": "Python 3",
   "language": "python",
   "name": "python3"
  },
  "language_info": {
   "codemirror_mode": {
    "name": "ipython",
    "version": 3
   },
   "file_extension": ".py",
   "mimetype": "text/x-python",
   "name": "python",
   "nbconvert_exporter": "python",
   "pygments_lexer": "ipython3",
   "version": "3.9.2"
  }
 },
 "nbformat": 4,
 "nbformat_minor": 5
}
