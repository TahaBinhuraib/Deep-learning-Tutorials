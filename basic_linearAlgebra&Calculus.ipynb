{
 "cells": [
  {
   "cell_type": "markdown",
   "id": "fifty-force",
   "metadata": {},
   "source": [
    "# Linear Algebra\n",
    "In this tutorial we will be looking at basic linear algebra operations.\n",
    "in the realm of ML and DL we think of everything as vectors!\n",
    "if you want to take the input of a house with the following feratures:\n",
    "\n",
    "1 m^2\n",
    "\n",
    "2 # of rooms\n",
    "\n",
    "3 balcony or not\n",
    "\n",
    "An example of one house would be denoted as the following: <120,3,0>\n",
    "and this hoouse would be 120m^2 with 3 rooms and no balconies!\n",
    "tutorial from D2l.ai: https://d2l.ai/chapter_preliminaries/linear-algebra.html"
   ]
  },
  {
   "cell_type": "code",
   "execution_count": 11,
   "id": "imperial-imperial",
   "metadata": {},
   "outputs": [
    {
     "data": {
      "text/plain": [
       "torch.Size([5])"
      ]
     },
     "execution_count": 11,
     "metadata": {},
     "output_type": "execute_result"
    }
   ],
   "source": [
    "import torch\n",
    "# a vector with 5 elements\n",
    "x = torch.arange(5)\n",
    "x.shape"
   ]
  },
  {
   "cell_type": "code",
   "execution_count": 10,
   "id": "registered-queensland",
   "metadata": {},
   "outputs": [
    {
     "name": "stdout",
     "output_type": "stream",
     "text": [
      "tensor([1, 2, 3])\n"
     ]
    },
    {
     "data": {
      "text/plain": [
       "5"
      ]
     },
     "execution_count": 10,
     "metadata": {},
     "output_type": "execute_result"
    }
   ],
   "source": [
    "print(x[1:4])\n",
    "len(x)"
   ]
  },
  {
   "cell_type": "code",
   "execution_count": 12,
   "id": "decent-military",
   "metadata": {},
   "outputs": [
    {
     "data": {
      "text/plain": [
       "tensor([[ 0,  1,  2,  3,  4],\n",
       "        [ 5,  6,  7,  8,  9],\n",
       "        [10, 11, 12, 13, 14]])"
      ]
     },
     "execution_count": 12,
     "metadata": {},
     "output_type": "execute_result"
    }
   ],
   "source": [
    "# you can think of matrices as multiple vectors i.e multiple houses!\n",
    "A = torch.arange(15).reshape(3,-1)\n",
    "A"
   ]
  },
  {
   "cell_type": "code",
   "execution_count": 14,
   "id": "saving-brain",
   "metadata": {},
   "outputs": [
    {
     "data": {
      "text/plain": [
       "torch.Size([3, 5])"
      ]
     },
     "execution_count": 14,
     "metadata": {},
     "output_type": "execute_result"
    }
   ],
   "source": [
    "A.shape"
   ]
  },
  {
   "cell_type": "code",
   "execution_count": 22,
   "id": "nearby-weekly",
   "metadata": {},
   "outputs": [
    {
     "data": {
      "text/plain": [
       "tensor([[[ 0,  1,  2,  3],\n",
       "         [ 4,  5,  6,  7],\n",
       "         [ 8,  9, 10, 11],\n",
       "         [12, 13, 14, 15]],\n",
       "\n",
       "        [[16, 17, 18, 19],\n",
       "         [20, 21, 22, 23],\n",
       "         [24, 25, 26, 27],\n",
       "         [28, 29, 30, 31]]])"
      ]
     },
     "execution_count": 22,
     "metadata": {},
     "output_type": "execute_result"
    }
   ],
   "source": [
    "#tensors: In mathematics, a tensor is an algebraic object that describes a (multilinear) \n",
    "#relationship between sets of algebraic objects related to a vector space. Objects that \n",
    "#tensors may map between include vectors and scalars, and even other tensors.(wikipedia)\n",
    "\n",
    "#for example with RNNs: more on this later:\n",
    "# your input will be (input_size,time_stamps,# of features)!\n",
    "\n",
    "X = torch.arange(32).reshape(2,4,4)\n",
    "X\n",
    "\n",
    "# we have two examples with 4 time stamps and each input i.e time stamp has 4 features!\n"
   ]
  },
  {
   "cell_type": "markdown",
   "id": "connected-election",
   "metadata": {},
   "source": [
    "# Tensor Arithmetic"
   ]
  },
  {
   "cell_type": "markdown",
   "id": "floral-diameter",
   "metadata": {},
   "source": [
    "### Hadamard product of matrices  A and  B"
   ]
  },
  {
   "cell_type": "markdown",
   "id": "addressed-stewart",
   "metadata": {},
   "source": [
    "\\begin{split}\\mathbf{A} \\odot \\mathbf{B} =\n",
    "\\begin{bmatrix}\n",
    "    a_{11}  b_{11} & a_{12}  b_{12} & \\dots  & a_{1n}  b_{1n} \\\\\n",
    "    a_{21}  b_{21} & a_{22}  b_{22} & \\dots  & a_{2n}  b_{2n} \\\\\n",
    "    \\vdots & \\vdots & \\ddots & \\vdots \\\\\n",
    "    a_{m1}  b_{m1} & a_{m2}  b_{m2} & \\dots  & a_{mn}  b_{mn}\n",
    "\\end{bmatrix}.\\end{split}"
   ]
  },
  {
   "cell_type": "code",
   "execution_count": 34,
   "id": "physical-cartoon",
   "metadata": {},
   "outputs": [
    {
     "name": "stdout",
     "output_type": "stream",
     "text": [
      "Adding samples: \n",
      " tensor([[16, 18, 20, 22],\n",
      "        [24, 26, 28, 30],\n",
      "        [32, 34, 36, 38],\n",
      "        [40, 42, 44, 46]])\n",
      "Adding time stamps: \n",
      " tensor([[ 24,  28,  32,  36],\n",
      "        [ 88,  92,  96, 100]])\n"
     ]
    }
   ],
   "source": [
    "#add samples:\n",
    "print(f'Adding samples: \\n {X.sum(axis = 0)}')\n",
    "#add time stamps:\n",
    "print(f'Adding time stamps: \\n {X.sum(axis = 1)}')\n"
   ]
  },
  {
   "cell_type": "code",
   "execution_count": 36,
   "id": "standard-lender",
   "metadata": {},
   "outputs": [
    {
     "data": {
      "text/plain": [
       "(tensor([0., 1., 2., 3.]), tensor([1., 1., 1., 1.]), tensor(6.))"
      ]
     },
     "execution_count": 36,
     "metadata": {},
     "output_type": "execute_result"
    }
   ],
   "source": [
    "x = torch.arange(4, dtype=torch.float32)\n",
    "y = torch.ones(4, dtype = torch.float32)\n",
    "x, y, torch.dot(x, y)"
   ]
  },
  {
   "cell_type": "code",
   "execution_count": 38,
   "id": "impaired-montgomery",
   "metadata": {},
   "outputs": [
    {
     "data": {
      "text/plain": [
       "(torch.Size([5, 4]), torch.Size([4]), tensor([ 14.,  38.,  62.,  86., 110.]))"
      ]
     },
     "execution_count": 38,
     "metadata": {},
     "output_type": "execute_result"
    }
   ],
   "source": [
    "A = torch.arange(20, dtype=torch.float32).reshape(5, 4)\n",
    "A.shape, x.shape, torch.mv(A, x)\n"
   ]
  },
  {
   "cell_type": "code",
   "execution_count": 42,
   "id": "coupled-snowboard",
   "metadata": {},
   "outputs": [
    {
     "data": {
      "text/plain": [
       "tensor(7.0711)"
      ]
     },
     "execution_count": 42,
     "metadata": {},
     "output_type": "execute_result"
    }
   ],
   "source": [
    "u = torch.tensor([-3.0, 4.0,5])\n",
    "torch.norm(u)"
   ]
  },
  {
   "cell_type": "code",
   "execution_count": 50,
   "id": "numerous-healing",
   "metadata": {},
   "outputs": [
    {
     "data": {
      "text/plain": [
       "tensor(7.0711)"
      ]
     },
     "execution_count": 50,
     "metadata": {},
     "output_type": "execute_result"
    }
   ],
   "source": [
    "torch.sqrt(torch.abs(u).pow(2).sum())"
   ]
  },
  {
   "cell_type": "code",
   "execution_count": 56,
   "id": "comfortable-assist",
   "metadata": {},
   "outputs": [
    {
     "data": {
      "text/plain": [
       "tensor(5.5692)"
      ]
     },
     "execution_count": 56,
     "metadata": {},
     "output_type": "execute_result"
    }
   ],
   "source": [
    "((torch.abs(u).pow(4).sum())).pow(1/4)"
   ]
  },
  {
   "cell_type": "markdown",
   "id": "essential-center",
   "metadata": {},
   "source": [
    "# Automatic differentiation"
   ]
  },
  {
   "cell_type": "markdown",
   "id": "accurate-brake",
   "metadata": {},
   "source": [
    "Derivatives play a crucial role in almost all Deep learning optimization algorithms!\n",
    "Intuitively, derivatives show us how much the loss function changes when parameters are changed i.e rate of change.\n"
   ]
  },
  {
   "cell_type": "code",
   "execution_count": 63,
   "id": "portable-presence",
   "metadata": {},
   "outputs": [
    {
     "data": {
      "text/plain": [
       "tensor(15., grad_fn=<MulBackward0>)"
      ]
     },
     "execution_count": 63,
     "metadata": {},
     "output_type": "execute_result"
    }
   ],
   "source": [
    "x = torch.arange(3.0 , requires_grad = True)\n",
    "y = 3*torch.dot(x,x) #should be equal to 15.\n",
    "y"
   ]
  },
  {
   "cell_type": "code",
   "execution_count": 64,
   "id": "round-horror",
   "metadata": {},
   "outputs": [
    {
     "data": {
      "text/plain": [
       "tensor([ 0.,  6., 12.])"
      ]
     },
     "execution_count": 64,
     "metadata": {},
     "output_type": "execute_result"
    }
   ],
   "source": [
    "y.backward()\n",
    "#3*x^2 ==> 6x  \n",
    "x.grad"
   ]
  },
  {
   "cell_type": "code",
   "execution_count": 65,
   "id": "convinced-bridge",
   "metadata": {},
   "outputs": [
    {
     "data": {
      "text/plain": [
       "tensor([True, True, True])"
      ]
     },
     "execution_count": 65,
     "metadata": {},
     "output_type": "execute_result"
    }
   ],
   "source": [
    "x.grad == 6 * x"
   ]
  },
  {
   "cell_type": "code",
   "execution_count": 71,
   "id": "operating-browser",
   "metadata": {},
   "outputs": [
    {
     "name": "stdout",
     "output_type": "stream",
     "text": [
      "tensor(3., grad_fn=<SumBackward0>)\n"
     ]
    }
   ],
   "source": [
    "# pytorch accumulates the gradient by default, we need to clear the previous values!\n",
    "\n",
    "x.grad.zero_()\n",
    "y = x.sum()\n",
    "print(y)\n"
   ]
  },
  {
   "cell_type": "code",
   "execution_count": 72,
   "id": "elegant-empty",
   "metadata": {},
   "outputs": [
    {
     "data": {
      "text/plain": [
       "tensor([1., 1., 1.])"
      ]
     },
     "execution_count": 72,
     "metadata": {},
     "output_type": "execute_result"
    }
   ],
   "source": [
    "y.backward()\n",
    "#sum(x) ==> 1. \n",
    "x.grad"
   ]
  },
  {
   "cell_type": "code",
   "execution_count": 77,
   "id": "offensive-plate",
   "metadata": {},
   "outputs": [
    {
     "name": "stdout",
     "output_type": "stream",
     "text": [
      "tensor([0., 1., 4.], grad_fn=<MulBackward0>)\n"
     ]
    },
    {
     "data": {
      "text/plain": [
       "tensor([0., 2., 4.])"
      ]
     },
     "execution_count": 77,
     "metadata": {},
     "output_type": "execute_result"
    }
   ],
   "source": [
    "x.grad.zero_()\n",
    "y = x*x\n",
    "print(y)\n",
    "y.sum().backward()\n",
    "x.grad"
   ]
  },
  {
   "cell_type": "code",
   "execution_count": 79,
   "id": "vietnamese-saskatchewan",
   "metadata": {},
   "outputs": [
    {
     "name": "stdout",
     "output_type": "stream",
     "text": [
      "tensor(5., grad_fn=<DotBackward>)\n"
     ]
    },
    {
     "data": {
      "text/plain": [
       "tensor([0., 2., 4.])"
      ]
     },
     "execution_count": 79,
     "metadata": {},
     "output_type": "execute_result"
    }
   ],
   "source": [
    "x.grad.zero_()\n",
    "y = torch.dot(x,x) #should be 5.\n",
    "print(y)\n",
    "y.backward()\n",
    "x.grad #should be 2*x"
   ]
  },
  {
   "cell_type": "code",
   "execution_count": 80,
   "id": "dressed-recovery",
   "metadata": {},
   "outputs": [
    {
     "name": "stdout",
     "output_type": "stream",
     "text": [
      "tensor([0., 1., 4.])\n"
     ]
    },
    {
     "data": {
      "text/plain": [
       "tensor([0., 1., 4.])"
      ]
     },
     "execution_count": 80,
     "metadata": {},
     "output_type": "execute_result"
    }
   ],
   "source": [
    "x.grad.zero_()\n",
    "y = x * x\n",
    "u = y.detach()\n",
    "z = u * x\n",
    "\n",
    "z.sum().backward()\n",
    "print(x.grad)\n",
    "u"
   ]
  },
  {
   "cell_type": "code",
   "execution_count": 82,
   "id": "raised-compensation",
   "metadata": {},
   "outputs": [
    {
     "name": "stdout",
     "output_type": "stream",
     "text": [
      "tensor([ 0.,  3., 12.])\n"
     ]
    },
    {
     "data": {
      "text/plain": [
       "tensor([0., 1., 4.], grad_fn=<MulBackward0>)"
      ]
     },
     "execution_count": 82,
     "metadata": {},
     "output_type": "execute_result"
    }
   ],
   "source": [
    "x.grad.zero_()\n",
    "y = x * x\n",
    "#here z = x^3\n",
    "u = y\n",
    "z = u * x\n",
    "\n",
    "z.sum().backward()\n",
    "print(x.grad)\n",
    "u"
   ]
  },
  {
   "cell_type": "code",
   "execution_count": null,
   "id": "recent-nancy",
   "metadata": {},
   "outputs": [],
   "source": []
  }
 ],
 "metadata": {
  "kernelspec": {
   "display_name": "Python 3",
   "language": "python",
   "name": "python3"
  },
  "language_info": {
   "codemirror_mode": {
    "name": "ipython",
    "version": 3
   },
   "file_extension": ".py",
   "mimetype": "text/x-python",
   "name": "python",
   "nbconvert_exporter": "python",
   "pygments_lexer": "ipython3",
   "version": "3.8.8"
  }
 },
 "nbformat": 4,
 "nbformat_minor": 5
}
