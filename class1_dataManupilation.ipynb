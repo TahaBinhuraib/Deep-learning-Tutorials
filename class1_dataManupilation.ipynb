{
 "cells": [
  {
   "cell_type": "markdown",
   "id": "transparent-congo",
   "metadata": {},
   "source": [
    "In mathematics, a tensor is an algebraic object that describes a (multilinear) relationship between sets of algebraic objects related to a vector space. Objects that tensors may map between include vectors and scalars, and even other tensors(wikipedia).\n",
    "In deep learning the concept of tensors are of crucial importance since they are what store data. Learning about data manipulation will help you understand the backbones of deep learning"
   ]
  },
  {
   "cell_type": "code",
   "execution_count": 7,
   "id": "authorized-faith",
   "metadata": {},
   "outputs": [
    {
     "name": "stdout",
     "output_type": "stream",
     "text": [
      "torch.int64\n"
     ]
    },
    {
     "data": {
      "text/plain": [
       "tensor([0, 1, 2, 3, 4, 5, 6, 7, 8, 9])"
      ]
     },
     "execution_count": 7,
     "metadata": {},
     "output_type": "execute_result"
    }
   ],
   "source": [
    "import torch\n",
    "x = torch.arange(10)\n",
    "print(x.dtype)\n",
    "x"
   ]
  },
  {
   "cell_type": "code",
   "execution_count": 13,
   "id": "meaning-municipality",
   "metadata": {},
   "outputs": [],
   "source": [
    "x = x.reshape(-1,2)"
   ]
  },
  {
   "cell_type": "code",
   "execution_count": 15,
   "id": "centered-subsection",
   "metadata": {},
   "outputs": [
    {
     "data": {
      "text/plain": [
       "torch.Size([5, 2])"
      ]
     },
     "execution_count": 15,
     "metadata": {},
     "output_type": "execute_result"
    }
   ],
   "source": [
    "x.shape"
   ]
  },
  {
   "cell_type": "code",
   "execution_count": 16,
   "id": "noble-fishing",
   "metadata": {},
   "outputs": [
    {
     "data": {
      "text/plain": [
       "tensor([[0, 1],\n",
       "        [2, 3],\n",
       "        [4, 5],\n",
       "        [6, 7],\n",
       "        [8, 9]])"
      ]
     },
     "execution_count": 16,
     "metadata": {},
     "output_type": "execute_result"
    }
   ],
   "source": [
    "x"
   ]
  },
  {
   "cell_type": "code",
   "execution_count": 20,
   "id": "empirical-advertising",
   "metadata": {},
   "outputs": [
    {
     "data": {
      "text/plain": [
       "tensor([[[0., 0., 0.],\n",
       "         [0., 0., 0.]],\n",
       "\n",
       "        [[0., 0., 0.],\n",
       "         [0., 0., 0.]],\n",
       "\n",
       "        [[0., 0., 0.],\n",
       "         [0., 0., 0.]],\n",
       "\n",
       "        [[0., 0., 0.],\n",
       "         [0., 0., 0.]],\n",
       "\n",
       "        [[0., 0., 0.],\n",
       "         [0., 0., 0.]]])"
      ]
     },
     "execution_count": 20,
     "metadata": {},
     "output_type": "execute_result"
    }
   ],
   "source": [
    "torch.zeros((5,2,3))"
   ]
  },
  {
   "cell_type": "code",
   "execution_count": 21,
   "id": "fixed-director",
   "metadata": {},
   "outputs": [
    {
     "data": {
      "text/plain": [
       "tensor([[[1., 1., 1.],\n",
       "         [1., 1., 1.],\n",
       "         [1., 1., 1.]],\n",
       "\n",
       "        [[1., 1., 1.],\n",
       "         [1., 1., 1.],\n",
       "         [1., 1., 1.]]])"
      ]
     },
     "execution_count": 21,
     "metadata": {},
     "output_type": "execute_result"
    }
   ],
   "source": [
    "torch.ones(2,3,3)"
   ]
  },
  {
   "cell_type": "code",
   "execution_count": 30,
   "id": "metric-bradley",
   "metadata": {},
   "outputs": [
    {
     "name": "stdout",
     "output_type": "stream",
     "text": [
      "tensor([[0.1560, 0.1960, 0.0237, 0.2574],\n",
      "        [0.9483, 0.7895, 0.6717, 0.1459],\n",
      "        [0.7333, 0.9065, 0.6768, 0.4436]])\n",
      "------------------\n",
      "tensor([[0.7211, 0.0083, 0.3949, 0.4931],\n",
      "        [0.8143, 0.2546, 0.3775, 0.7905],\n",
      "        [0.8630, 0.3330, 0.4819, 0.5811]])\n",
      "------------------\n",
      "tensor([[0.6870, 0.1164, 0.5724, 0.1861],\n",
      "        [0.4065, 0.2900, 0.4513, 0.3218],\n",
      "        [0.1521, 0.5475, 0.4057, 0.4278]])\n",
      "------------------\n",
      "tensor([[0.6727, 0.8932, 0.0575, 0.4166],\n",
      "        [0.4836, 0.2635, 0.7960, 0.1622],\n",
      "        [0.6797, 0.8138, 0.1322, 0.1133]])\n",
      "------------------\n",
      "tensor([[0.2574, 0.2309, 0.0040, 0.5608],\n",
      "        [0.3478, 0.5888, 0.0447, 0.5223],\n",
      "        [0.4541, 0.2480, 0.2513, 0.1732]])\n",
      "------------------\n",
      "tensor([[0.1016, 0.4585, 0.4654, 0.0592],\n",
      "        [0.0184, 0.2184, 0.3766, 0.2989],\n",
      "        [0.5868, 0.6982, 0.1346, 0.7032]])\n",
      "------------------\n",
      "tensor([[0.2272, 0.1211, 0.7152, 0.9912],\n",
      "        [0.7714, 0.5193, 0.7985, 0.1776],\n",
      "        [0.8324, 0.2110, 0.4323, 0.7728]])\n",
      "------------------\n",
      "tensor([[0.3282, 0.8938, 0.9116, 0.7873],\n",
      "        [0.1319, 0.7840, 0.5220, 0.8691],\n",
      "        [0.7052, 0.3679, 0.3044, 0.5509]])\n",
      "------------------\n",
      "tensor([[0.9452, 0.1482, 0.0579, 0.1648],\n",
      "        [0.7627, 0.8825, 0.8074, 0.3012],\n",
      "        [0.1447, 0.2767, 0.1449, 0.3157]])\n"
     ]
    }
   ],
   "source": [
    "#random number generator:\n",
    "x = 0\n",
    "while(x<10):\n",
    "    print(torch.rand(3,4))\n",
    "    x+=1\n",
    "    if(x == 9):\n",
    "        break\n",
    "    print(\"------------------\")"
   ]
  },
  {
   "cell_type": "code",
   "execution_count": 42,
   "id": "descending-forth",
   "metadata": {},
   "outputs": [
    {
     "name": "stdout",
     "output_type": "stream",
     "text": [
      "torch.float32\n"
     ]
    },
    {
     "data": {
      "text/plain": [
       "tensor([2., 6., 4.])"
      ]
     },
     "execution_count": 42,
     "metadata": {},
     "output_type": "execute_result"
    }
   ],
   "source": [
    "x = torch.tensor([2.,3,2])\n",
    "y = torch.tensor([1,2,2])\n",
    "print(x.dtype)\n",
    "x*y"
   ]
  },
  {
   "cell_type": "code",
   "execution_count": 40,
   "id": "imperial-tattoo",
   "metadata": {},
   "outputs": [
    {
     "data": {
      "text/plain": [
       "tensor([ 7.3891, 20.0855,  7.3891])"
      ]
     },
     "execution_count": 40,
     "metadata": {},
     "output_type": "execute_result"
    }
   ],
   "source": [
    "#exponentials are always used for non-linearities:\n",
    "torch.exp(x)"
   ]
  },
  {
   "cell_type": "code",
   "execution_count": 50,
   "id": "color-wednesday",
   "metadata": {},
   "outputs": [
    {
     "name": "stdout",
     "output_type": "stream",
     "text": [
      "torch.float32\n",
      "tensor(7.)\n"
     ]
    },
    {
     "data": {
      "text/plain": [
       "tensor(7.)"
      ]
     },
     "execution_count": 50,
     "metadata": {},
     "output_type": "execute_result"
    }
   ],
   "source": [
    "#find mean of data!\n",
    "x = torch.arange(15.)\n",
    "print(x.dtype)\n",
    "print(x.sum()/len(x))\n",
    "x.mean()"
   ]
  },
  {
   "cell_type": "code",
   "execution_count": 53,
   "id": "baking-pharmacy",
   "metadata": {},
   "outputs": [
    {
     "data": {
      "text/plain": [
       "tensor(4.4721)"
      ]
     },
     "execution_count": 53,
     "metadata": {},
     "output_type": "execute_result"
    }
   ],
   "source": [
    "#find the standard deviation!\n",
    "x.std()"
   ]
  },
  {
   "cell_type": "code",
   "execution_count": 60,
   "id": "massive-pittsburgh",
   "metadata": {},
   "outputs": [
    {
     "data": {
      "text/plain": [
       "tensor([[0., 1., 2., 3., 4., 1., 1., 1., 1., 1.],\n",
       "        [5., 6., 7., 8., 9., 1., 1., 1., 1., 1.]])"
      ]
     },
     "execution_count": 60,
     "metadata": {},
     "output_type": "execute_result"
    }
   ],
   "source": [
    "a = torch.arange(10).reshape(-1,5)\n",
    "b = torch.ones(10).reshape(-1,5)\n",
    "#dim  = 0 -> add as rows \n",
    "#dim = 1 -> add as columns\n",
    "torch.cat((a,b) , dim = 1)"
   ]
  },
  {
   "cell_type": "code",
   "execution_count": 63,
   "id": "generous-ivory",
   "metadata": {},
   "outputs": [
    {
     "data": {
      "text/plain": [
       "tensor([[False,  True, False, False, False],\n",
       "        [False, False, False, False, False]])"
      ]
     },
     "execution_count": 63,
     "metadata": {},
     "output_type": "execute_result"
    }
   ],
   "source": [
    "a == b"
   ]
  },
  {
   "cell_type": "code",
   "execution_count": 70,
   "id": "alike-johns",
   "metadata": {},
   "outputs": [
    {
     "data": {
      "text/plain": [
       "tensor([60, 55,  2])"
      ]
     },
     "execution_count": 70,
     "metadata": {},
     "output_type": "execute_result"
    }
   ],
   "source": [
    "A = torch.tensor([[2,5,3],[20,50,60],[80,90,55],[2,1,2]])\n",
    "A[1:,2]"
   ]
  },
  {
   "cell_type": "code",
   "execution_count": 78,
   "id": "radical-portrait",
   "metadata": {},
   "outputs": [
    {
     "data": {
      "text/plain": [
       "torch.Size([1, 5, 4])"
      ]
     },
     "execution_count": 78,
     "metadata": {},
     "output_type": "execute_result"
    }
   ],
   "source": [
    "B = torch.arange(20).reshape(-1,5,4)\n",
    "B.shape"
   ]
  },
  {
   "cell_type": "code",
   "execution_count": 83,
   "id": "original-conspiracy",
   "metadata": {},
   "outputs": [
    {
     "data": {
      "text/plain": [
       "tensor([[[ 0,  1,  2,  3],\n",
       "         [ 4,  5,  6,  7],\n",
       "         [ 8,  9, 10, 11],\n",
       "         [12, 13, 14, 15],\n",
       "         [16, 17, 18, 19]]])"
      ]
     },
     "execution_count": 83,
     "metadata": {},
     "output_type": "execute_result"
    }
   ],
   "source": [
    "B"
   ]
  },
  {
   "cell_type": "code",
   "execution_count": 85,
   "id": "elegant-number",
   "metadata": {},
   "outputs": [
    {
     "data": {
      "text/plain": [
       "tensor([ 5,  9, 13, 17])"
      ]
     },
     "execution_count": 85,
     "metadata": {},
     "output_type": "execute_result"
    }
   ],
   "source": [
    "B[0,1:,1]"
   ]
  },
  {
   "cell_type": "code",
   "execution_count": 91,
   "id": "alert-controversy",
   "metadata": {},
   "outputs": [
    {
     "name": "stdout",
     "output_type": "stream",
     "text": [
      "id: 140387786684480\n",
      "id: 140387786697344\n"
     ]
    }
   ],
   "source": [
    "#manipulate variables using the same memory location. Also known as in-place operations\n",
    "\n",
    "Z = torch.zeros_like(A)\n",
    "print(f'id: {id(Z)}')\n",
    "Z = Z+A\n",
    "print(f'id: {id(Z)}')"
   ]
  },
  {
   "cell_type": "code",
   "execution_count": 93,
   "id": "documentary-scope",
   "metadata": {},
   "outputs": [
    {
     "name": "stdout",
     "output_type": "stream",
     "text": [
      "id: 140387786704448\n",
      "id: 140387786704448\n"
     ]
    },
    {
     "data": {
      "text/plain": [
       "True"
      ]
     },
     "execution_count": 93,
     "metadata": {},
     "output_type": "execute_result"
    }
   ],
   "source": [
    "Z = torch.zeros_like(A)\n",
    "a = id(Z)\n",
    "print(f'id: {id(Z)}')\n",
    "Z[:] = Z+A\n",
    "b = id(Z)\n",
    "print(f'id: {id(Z)}')\n",
    "a == b"
   ]
  },
  {
   "cell_type": "markdown",
   "id": "spectacular-archive",
   "metadata": {},
   "source": [
    "End of class 1!"
   ]
  },
  {
   "cell_type": "code",
   "execution_count": null,
   "id": "collected-korea",
   "metadata": {},
   "outputs": [],
   "source": []
  },
  {
   "cell_type": "code",
   "execution_count": null,
   "id": "direct-species",
   "metadata": {},
   "outputs": [],
   "source": []
  }
 ],
 "metadata": {
  "kernelspec": {
   "display_name": "Python 3",
   "language": "python",
   "name": "python3"
  },
  "language_info": {
   "codemirror_mode": {
    "name": "ipython",
    "version": 3
   },
   "file_extension": ".py",
   "mimetype": "text/x-python",
   "name": "python",
   "nbconvert_exporter": "python",
   "pygments_lexer": "ipython3",
   "version": "3.8.8"
  }
 },
 "nbformat": 4,
 "nbformat_minor": 5
}
