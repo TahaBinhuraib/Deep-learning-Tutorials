{
 "cells": [
  {
   "cell_type": "code",
   "execution_count": 1,
   "id": "favorite-virginia",
   "metadata": {},
   "outputs": [],
   "source": [
    "from d2l import torch as d2l\n",
    "import numpy as np\n",
    "import torch\n",
    "from torch.utils import data\n",
    "\n",
    "true_w = torch.tensor([2.7, -13.4])\n",
    "true_b = 4.\n",
    "features, labels = d2l.synthetic_data(true_w, true_b, 5000)\n",
    "labels = labels.reshape(-1,1)"
   ]
  },
  {
   "cell_type": "code",
   "execution_count": 2,
   "id": "dedicated-prince",
   "metadata": {},
   "outputs": [],
   "source": [
    "def load_array(data_arrays, batch_size, is_train=True):  #@save\n",
    "    \"\"\"Construct a PyTorch data iterator.\"\"\"\n",
    "    dataset = data.TensorDataset(*data_arrays)\n",
    "    return data.DataLoader(dataset, batch_size, shuffle=is_train)\n",
    "\n",
    "batch_size = 10\n",
    "data_iter = load_array((features, labels), batch_size)\n"
   ]
  },
  {
   "cell_type": "code",
   "execution_count": 3,
   "id": "entertaining-numbers",
   "metadata": {},
   "outputs": [
    {
     "data": {
      "text/plain": [
       "[tensor([[-0.6444,  0.7615],\n",
       "         [-0.4332,  1.1102],\n",
       "         [-0.8219, -0.5124],\n",
       "         [-0.5154,  1.3196],\n",
       "         [ 0.9620, -0.2128],\n",
       "         [ 1.7777, -1.1924],\n",
       "         [-1.4678, -0.3983],\n",
       "         [ 0.4072, -0.0095],\n",
       "         [ 0.3374, -2.0484],\n",
       "         [ 0.4526, -1.2825]]),\n",
       " tensor([[ -7.9488],\n",
       "         [-12.0451],\n",
       "         [  8.6438],\n",
       "         [-15.0741],\n",
       "         [  9.4424],\n",
       "         [ 24.7811],\n",
       "         [  5.3579],\n",
       "         [  5.2214],\n",
       "         [ 32.3451],\n",
       "         [ 22.4168]])]"
      ]
     },
     "execution_count": 3,
     "metadata": {},
     "output_type": "execute_result"
    }
   ],
   "source": [
    "# get first batch only\n",
    "next(iter(data_iter))"
   ]
  },
  {
   "cell_type": "code",
   "execution_count": 4,
   "id": "congressional-spirituality",
   "metadata": {},
   "outputs": [],
   "source": [
    "from torch import nn\n",
    "model = nn.Sequential(nn.Linear(2,1))\n",
    "model[0].weight.data.normal_(0,5)\n",
    "model[0].bias.data.fill_(0)\n",
    "loss = nn.MSELoss()\n",
    "optimizer = torch.optim.SGD(model.parameters() , lr = 0.04)\n",
    "        \n",
    "        "
   ]
  },
  {
   "cell_type": "code",
   "execution_count": 5,
   "id": "better-overview",
   "metadata": {},
   "outputs": [
    {
     "name": "stdout",
     "output_type": "stream",
     "text": [
      "epoch 1 , loss 0.000102\n",
      "epoch 2 , loss 0.000102\n",
      "epoch 3 , loss 0.000102\n"
     ]
    }
   ],
   "source": [
    "for epoch in range(3):\n",
    "    for X , y in data_iter:\n",
    "        optimizer.zero_grad()\n",
    "        l = loss(model(X) , y)\n",
    "        l.backward()\n",
    "        optimizer.step()\n",
    "    l = loss(model(features) , labels)\n",
    "    print(f'epoch {epoch+1} , loss {l:f}')\n",
    "        "
   ]
  },
  {
   "cell_type": "code",
   "execution_count": 12,
   "id": "crazy-grounds",
   "metadata": {},
   "outputs": [
    {
     "name": "stdout",
     "output_type": "stream",
     "text": [
      "error in w: tensor([2.9016e-04, 4.7684e-05])\n"
     ]
    }
   ],
   "source": [
    "w = model[0].weight.data\n",
    "print(f'error in w: {true_w - w.reshape(true_w.shape)}')"
   ]
  },
  {
   "cell_type": "code",
   "execution_count": 13,
   "id": "respected-hacker",
   "metadata": {},
   "outputs": [
    {
     "name": "stdout",
     "output_type": "stream",
     "text": [
      "error in b : tensor([-9.3937e-05])\n"
     ]
    }
   ],
   "source": [
    "b = model[0].bias.data\n",
    "print(f'error in b : {true_b - b}')"
   ]
  },
  {
   "cell_type": "code",
   "execution_count": null,
   "id": "selected-punch",
   "metadata": {},
   "outputs": [],
   "source": []
  }
 ],
 "metadata": {
  "kernelspec": {
   "display_name": "Python 3",
   "language": "python",
   "name": "python3"
  },
  "language_info": {
   "codemirror_mode": {
    "name": "ipython",
    "version": 3
   },
   "file_extension": ".py",
   "mimetype": "text/x-python",
   "name": "python",
   "nbconvert_exporter": "python",
   "pygments_lexer": "ipython3",
   "version": "3.8.8"
  }
 },
 "nbformat": 4,
 "nbformat_minor": 5
}
